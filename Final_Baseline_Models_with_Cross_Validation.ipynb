{
  "cells": [
    {
      "cell_type": "markdown",
      "metadata": {
        "id": "xZEbj-Ne-IA0"
      },
      "source": [
        "Baseline Models"
      ]
    },
    {
      "cell_type": "code",
      "execution_count": null,
      "metadata": {
        "colab": {
          "base_uri": "https://localhost:8080/"
        },
        "id": "wzTulnOC86ru",
        "outputId": "d4bd113f-371a-462d-9d35-d81c7c8bc0f8"
      },
      "outputs": [
        {
          "output_type": "stream",
          "name": "stdout",
          "text": [
            "Mounted at /content/drive\n"
          ]
        }
      ],
      "source": [
        "from google.colab import drive\n",
        "drive.mount('/content/drive')"
      ]
    },
    {
      "cell_type": "code",
      "execution_count": null,
      "metadata": {
        "colab": {
          "base_uri": "https://localhost:8080/"
        },
        "id": "hR76IXpp8-44",
        "outputId": "65da72e3-29ad-4f56-bbd0-126f43cbbe28"
      },
      "outputs": [
        {
          "output_type": "stream",
          "name": "stdout",
          "text": [
            "/content/drive/MyDrive/Thesis\n"
          ]
        }
      ],
      "source": [
        "%cd /content/drive/MyDrive/Thesis/"
      ]
    },
    {
      "cell_type": "code",
      "execution_count": null,
      "metadata": {
        "id": "75y_zr_h9BUR"
      },
      "outputs": [],
      "source": [
        "import numpy as np\n",
        "import pandas as pd\n",
        "from pandas import read_excel\n",
        "from sklearn.model_selection import train_test_split\n",
        "import seaborn as sns\n",
        "import re"
      ]
    },
    {
      "cell_type": "code",
      "execution_count": null,
      "metadata": {
        "id": "kI-26z9N9Eak"
      },
      "outputs": [],
      "source": [
        "df = read_excel(\"complete data after manual annotation.xlsx\")"
      ]
    },
    {
      "cell_type": "code",
      "execution_count": null,
      "metadata": {
        "id": "9SowDF1s-oB9"
      },
      "outputs": [],
      "source": [
        "# For combining pedagogics and class management\n",
        "\n",
        "df['Topics'] = df['Topics'].replace( 'klassenmanagment_klassenmanagement_unterrichtsstörung_unterrichtsstunde', 'pädagogischen_pädagogisch_pädagogische_diagnostisch')"
      ]
    },
    {
      "cell_type": "code",
      "source": [
        "# for combining task and concentration\n",
        "\n",
        "df['Topics'] = df['Topics'].replace( 'konzentrieren_konzentriert_bearbeitungszeit_aufgabenbearbeitung', 'aufgabe_schreiben_musterlösung_thematik')"
      ],
      "metadata": {
        "id": "TZPvm605HeE4"
      },
      "execution_count": null,
      "outputs": []
    },
    {
      "cell_type": "code",
      "execution_count": null,
      "metadata": {
        "id": "nYn9Tm1v9Oxh"
      },
      "outputs": [],
      "source": [
        "X = df[['Sentences']]\n",
        "y = df['Topics']"
      ]
    },
    {
      "cell_type": "code",
      "execution_count": null,
      "metadata": {
        "id": "isRGRxvR9TC-"
      },
      "outputs": [],
      "source": [
        "X_train, X_test, y_train, y_test = train_test_split(X,y, test_size=0.2, shuffle=True)"
      ]
    },
    {
      "cell_type": "code",
      "execution_count": null,
      "metadata": {
        "id": "V_su3vxU9WI4"
      },
      "outputs": [],
      "source": [
        "#if want to use data augmentation for train set\n",
        "# Augmentation with pp and videos combined\n",
        "\n",
        "USE_DATA_AUGMENTATION = True\n",
        "\n",
        "if USE_DATA_AUGMENTATION:\n",
        "  df_aug = read_excel(\"data_aug_using_duplicates_after_MA.xlsx\")\n",
        "\n",
        "  X_aug = df_aug[['Sentences']]\n",
        "  y_aug = df_aug['Topics']\n",
        "\n",
        "  X_train_new = pd.concat([X_train, X_aug], axis=0)\n",
        "  y_train_new = pd.concat([y_train, y_aug], axis=0)\n",
        "\n",
        "  X_train = X_train_new\n",
        "  y_train = y_train_new\n"
      ]
    },
    {
      "cell_type": "code",
      "execution_count": null,
      "metadata": {
        "colab": {
          "base_uri": "https://localhost:8080/",
          "height": 206
        },
        "id": "vxQdqYkn9cov",
        "outputId": "2e40ba76-01e5-40dc-8145-fa3c54844101"
      },
      "outputs": [
        {
          "output_type": "execute_result",
          "data": {
            "text/plain": [
              "                                               Sentences\n",
              "10489  Vor der Bearbeitung der Aufgaben habe ich habe...\n",
              "5671   Ich habe zuerst das zugehörige Material gesich...\n",
              "17240  Warum also ändert sich der Standard von Schule...\n",
              "16595   So wies zum Beispiel ein Kommentar von Derek ...\n",
              "19009  Dort wurde lediglich das Wissen als essentiell..."
            ],
            "text/html": [
              "\n",
              "  <div id=\"df-0aea99da-e30e-4b27-aa7d-64810c8fe5e6\" class=\"colab-df-container\">\n",
              "    <div>\n",
              "<style scoped>\n",
              "    .dataframe tbody tr th:only-of-type {\n",
              "        vertical-align: middle;\n",
              "    }\n",
              "\n",
              "    .dataframe tbody tr th {\n",
              "        vertical-align: top;\n",
              "    }\n",
              "\n",
              "    .dataframe thead th {\n",
              "        text-align: right;\n",
              "    }\n",
              "</style>\n",
              "<table border=\"1\" class=\"dataframe\">\n",
              "  <thead>\n",
              "    <tr style=\"text-align: right;\">\n",
              "      <th></th>\n",
              "      <th>Sentences</th>\n",
              "    </tr>\n",
              "  </thead>\n",
              "  <tbody>\n",
              "    <tr>\n",
              "      <th>10489</th>\n",
              "      <td>Vor der Bearbeitung der Aufgaben habe ich habe...</td>\n",
              "    </tr>\n",
              "    <tr>\n",
              "      <th>5671</th>\n",
              "      <td>Ich habe zuerst das zugehörige Material gesich...</td>\n",
              "    </tr>\n",
              "    <tr>\n",
              "      <th>17240</th>\n",
              "      <td>Warum also ändert sich der Standard von Schule...</td>\n",
              "    </tr>\n",
              "    <tr>\n",
              "      <th>16595</th>\n",
              "      <td>So wies zum Beispiel ein Kommentar von Derek ...</td>\n",
              "    </tr>\n",
              "    <tr>\n",
              "      <th>19009</th>\n",
              "      <td>Dort wurde lediglich das Wissen als essentiell...</td>\n",
              "    </tr>\n",
              "  </tbody>\n",
              "</table>\n",
              "</div>\n",
              "    <div class=\"colab-df-buttons\">\n",
              "\n",
              "  <div class=\"colab-df-container\">\n",
              "    <button class=\"colab-df-convert\" onclick=\"convertToInteractive('df-0aea99da-e30e-4b27-aa7d-64810c8fe5e6')\"\n",
              "            title=\"Convert this dataframe to an interactive table.\"\n",
              "            style=\"display:none;\">\n",
              "\n",
              "  <svg xmlns=\"http://www.w3.org/2000/svg\" height=\"24px\" viewBox=\"0 -960 960 960\">\n",
              "    <path d=\"M120-120v-720h720v720H120Zm60-500h600v-160H180v160Zm220 220h160v-160H400v160Zm0 220h160v-160H400v160ZM180-400h160v-160H180v160Zm440 0h160v-160H620v160ZM180-180h160v-160H180v160Zm440 0h160v-160H620v160Z\"/>\n",
              "  </svg>\n",
              "    </button>\n",
              "\n",
              "  <style>\n",
              "    .colab-df-container {\n",
              "      display:flex;\n",
              "      gap: 12px;\n",
              "    }\n",
              "\n",
              "    .colab-df-convert {\n",
              "      background-color: #E8F0FE;\n",
              "      border: none;\n",
              "      border-radius: 50%;\n",
              "      cursor: pointer;\n",
              "      display: none;\n",
              "      fill: #1967D2;\n",
              "      height: 32px;\n",
              "      padding: 0 0 0 0;\n",
              "      width: 32px;\n",
              "    }\n",
              "\n",
              "    .colab-df-convert:hover {\n",
              "      background-color: #E2EBFA;\n",
              "      box-shadow: 0px 1px 2px rgba(60, 64, 67, 0.3), 0px 1px 3px 1px rgba(60, 64, 67, 0.15);\n",
              "      fill: #174EA6;\n",
              "    }\n",
              "\n",
              "    .colab-df-buttons div {\n",
              "      margin-bottom: 4px;\n",
              "    }\n",
              "\n",
              "    [theme=dark] .colab-df-convert {\n",
              "      background-color: #3B4455;\n",
              "      fill: #D2E3FC;\n",
              "    }\n",
              "\n",
              "    [theme=dark] .colab-df-convert:hover {\n",
              "      background-color: #434B5C;\n",
              "      box-shadow: 0px 1px 3px 1px rgba(0, 0, 0, 0.15);\n",
              "      filter: drop-shadow(0px 1px 2px rgba(0, 0, 0, 0.3));\n",
              "      fill: #FFFFFF;\n",
              "    }\n",
              "  </style>\n",
              "\n",
              "    <script>\n",
              "      const buttonEl =\n",
              "        document.querySelector('#df-0aea99da-e30e-4b27-aa7d-64810c8fe5e6 button.colab-df-convert');\n",
              "      buttonEl.style.display =\n",
              "        google.colab.kernel.accessAllowed ? 'block' : 'none';\n",
              "\n",
              "      async function convertToInteractive(key) {\n",
              "        const element = document.querySelector('#df-0aea99da-e30e-4b27-aa7d-64810c8fe5e6');\n",
              "        const dataTable =\n",
              "          await google.colab.kernel.invokeFunction('convertToInteractive',\n",
              "                                                    [key], {});\n",
              "        if (!dataTable) return;\n",
              "\n",
              "        const docLinkHtml = 'Like what you see? Visit the ' +\n",
              "          '<a target=\"_blank\" href=https://colab.research.google.com/notebooks/data_table.ipynb>data table notebook</a>'\n",
              "          + ' to learn more about interactive tables.';\n",
              "        element.innerHTML = '';\n",
              "        dataTable['output_type'] = 'display_data';\n",
              "        await google.colab.output.renderOutput(dataTable, element);\n",
              "        const docLink = document.createElement('div');\n",
              "        docLink.innerHTML = docLinkHtml;\n",
              "        element.appendChild(docLink);\n",
              "      }\n",
              "    </script>\n",
              "  </div>\n",
              "\n",
              "\n",
              "<div id=\"df-3a8c893e-f9c7-4e56-90f8-5591378038a7\">\n",
              "  <button class=\"colab-df-quickchart\" onclick=\"quickchart('df-3a8c893e-f9c7-4e56-90f8-5591378038a7')\"\n",
              "            title=\"Suggest charts.\"\n",
              "            style=\"display:none;\">\n",
              "\n",
              "<svg xmlns=\"http://www.w3.org/2000/svg\" height=\"24px\"viewBox=\"0 0 24 24\"\n",
              "     width=\"24px\">\n",
              "    <g>\n",
              "        <path d=\"M19 3H5c-1.1 0-2 .9-2 2v14c0 1.1.9 2 2 2h14c1.1 0 2-.9 2-2V5c0-1.1-.9-2-2-2zM9 17H7v-7h2v7zm4 0h-2V7h2v10zm4 0h-2v-4h2v4z\"/>\n",
              "    </g>\n",
              "</svg>\n",
              "  </button>\n",
              "\n",
              "<style>\n",
              "  .colab-df-quickchart {\n",
              "      --bg-color: #E8F0FE;\n",
              "      --fill-color: #1967D2;\n",
              "      --hover-bg-color: #E2EBFA;\n",
              "      --hover-fill-color: #174EA6;\n",
              "      --disabled-fill-color: #AAA;\n",
              "      --disabled-bg-color: #DDD;\n",
              "  }\n",
              "\n",
              "  [theme=dark] .colab-df-quickchart {\n",
              "      --bg-color: #3B4455;\n",
              "      --fill-color: #D2E3FC;\n",
              "      --hover-bg-color: #434B5C;\n",
              "      --hover-fill-color: #FFFFFF;\n",
              "      --disabled-bg-color: #3B4455;\n",
              "      --disabled-fill-color: #666;\n",
              "  }\n",
              "\n",
              "  .colab-df-quickchart {\n",
              "    background-color: var(--bg-color);\n",
              "    border: none;\n",
              "    border-radius: 50%;\n",
              "    cursor: pointer;\n",
              "    display: none;\n",
              "    fill: var(--fill-color);\n",
              "    height: 32px;\n",
              "    padding: 0;\n",
              "    width: 32px;\n",
              "  }\n",
              "\n",
              "  .colab-df-quickchart:hover {\n",
              "    background-color: var(--hover-bg-color);\n",
              "    box-shadow: 0 1px 2px rgba(60, 64, 67, 0.3), 0 1px 3px 1px rgba(60, 64, 67, 0.15);\n",
              "    fill: var(--button-hover-fill-color);\n",
              "  }\n",
              "\n",
              "  .colab-df-quickchart-complete:disabled,\n",
              "  .colab-df-quickchart-complete:disabled:hover {\n",
              "    background-color: var(--disabled-bg-color);\n",
              "    fill: var(--disabled-fill-color);\n",
              "    box-shadow: none;\n",
              "  }\n",
              "\n",
              "  .colab-df-spinner {\n",
              "    border: 2px solid var(--fill-color);\n",
              "    border-color: transparent;\n",
              "    border-bottom-color: var(--fill-color);\n",
              "    animation:\n",
              "      spin 1s steps(1) infinite;\n",
              "  }\n",
              "\n",
              "  @keyframes spin {\n",
              "    0% {\n",
              "      border-color: transparent;\n",
              "      border-bottom-color: var(--fill-color);\n",
              "      border-left-color: var(--fill-color);\n",
              "    }\n",
              "    20% {\n",
              "      border-color: transparent;\n",
              "      border-left-color: var(--fill-color);\n",
              "      border-top-color: var(--fill-color);\n",
              "    }\n",
              "    30% {\n",
              "      border-color: transparent;\n",
              "      border-left-color: var(--fill-color);\n",
              "      border-top-color: var(--fill-color);\n",
              "      border-right-color: var(--fill-color);\n",
              "    }\n",
              "    40% {\n",
              "      border-color: transparent;\n",
              "      border-right-color: var(--fill-color);\n",
              "      border-top-color: var(--fill-color);\n",
              "    }\n",
              "    60% {\n",
              "      border-color: transparent;\n",
              "      border-right-color: var(--fill-color);\n",
              "    }\n",
              "    80% {\n",
              "      border-color: transparent;\n",
              "      border-right-color: var(--fill-color);\n",
              "      border-bottom-color: var(--fill-color);\n",
              "    }\n",
              "    90% {\n",
              "      border-color: transparent;\n",
              "      border-bottom-color: var(--fill-color);\n",
              "    }\n",
              "  }\n",
              "</style>\n",
              "\n",
              "  <script>\n",
              "    async function quickchart(key) {\n",
              "      const quickchartButtonEl =\n",
              "        document.querySelector('#' + key + ' button');\n",
              "      quickchartButtonEl.disabled = true;  // To prevent multiple clicks.\n",
              "      quickchartButtonEl.classList.add('colab-df-spinner');\n",
              "      try {\n",
              "        const charts = await google.colab.kernel.invokeFunction(\n",
              "            'suggestCharts', [key], {});\n",
              "      } catch (error) {\n",
              "        console.error('Error during call to suggestCharts:', error);\n",
              "      }\n",
              "      quickchartButtonEl.classList.remove('colab-df-spinner');\n",
              "      quickchartButtonEl.classList.add('colab-df-quickchart-complete');\n",
              "    }\n",
              "    (() => {\n",
              "      let quickchartButtonEl =\n",
              "        document.querySelector('#df-3a8c893e-f9c7-4e56-90f8-5591378038a7 button');\n",
              "      quickchartButtonEl.style.display =\n",
              "        google.colab.kernel.accessAllowed ? 'block' : 'none';\n",
              "    })();\n",
              "  </script>\n",
              "</div>\n",
              "    </div>\n",
              "  </div>\n"
            ]
          },
          "metadata": {},
          "execution_count": 113
        }
      ],
      "source": [
        "def clean_text(text):\n",
        "\n",
        "    RE_PUNCTUATION = re.compile(\"([!?.,;-])\")\n",
        "    RE_TAGS = re.compile(r\"<[^>]+>\")\n",
        "    RE_ASCII = re.compile(r\"[^A-Za-zÀ-ž,.!?0-9 ]\", re.IGNORECASE)\n",
        "    RE_WSPACE = re.compile(r\"\\s+\", re.IGNORECASE)\n",
        "    text = re.sub(RE_TAGS, \" \", text)\n",
        "    text = re.sub(RE_ASCII, \" \", text)\n",
        "    text = re.sub(RE_PUNCTUATION, r\" \\1 \", text)\n",
        "    text = re.sub(RE_WSPACE, \" \", text)\n",
        "    return text\n",
        "\n",
        "# clean the original sentences column\n",
        "X_train[\"Sentences\"] = X_train[\"Sentences\"].map(\n",
        "    lambda x: clean_text(x) if isinstance(x, str) else x\n",
        ")\n",
        "\n",
        "X_test[\"Sentences\"] = X_test[\"Sentences\"].map(\n",
        "    lambda x: clean_text(x) if isinstance(x, str) else x\n",
        ")\n",
        "\n",
        "X_train.head()"
      ]
    },
    {
      "cell_type": "code",
      "execution_count": null,
      "metadata": {
        "id": "qXYoQDW19lQo"
      },
      "outputs": [],
      "source": [
        "temp_train = list(X_train['Sentences'].values.astype('U'))\n",
        "len(temp_train)\n",
        "temp_test = list(X_test['Sentences'].values.astype('U'))"
      ]
    },
    {
      "cell_type": "code",
      "execution_count": null,
      "metadata": {
        "colab": {
          "base_uri": "https://localhost:8080/"
        },
        "id": "jE6UiwbT9pa-",
        "outputId": "9d9faa52-5ef5-4fba-f160-359ca96e7eeb"
      },
      "outputs": [
        {
          "output_type": "execute_result",
          "data": {
            "text/plain": [
              "(15758, 17303)"
            ]
          },
          "metadata": {},
          "execution_count": 115
        }
      ],
      "source": [
        "# Using tfidf vectorizer\n",
        "from sklearn.feature_extraction.text import TfidfVectorizer\n",
        "tfidf_vectorizer = TfidfVectorizer()\n",
        "X_train_vectors_tfidf = tfidf_vectorizer.fit_transform(temp_train)\n",
        "X_test_vectors_tfidf = tfidf_vectorizer.transform(temp_test)\n",
        "\n",
        "X_train_vectors_tfidf.shape"
      ]
    },
    {
      "cell_type": "code",
      "execution_count": null,
      "metadata": {
        "id": "yeiIdcVdJ4Kd"
      },
      "outputs": [],
      "source": [
        "from sklearn.model_selection import GridSearchCV\n",
        "from sklearn import svm\n",
        "\n",
        "param_grid = {'C': [0.1, 1, 10, 100],\n",
        "              'gamma': [1, 0.1, 0.01, 0.001],\n",
        "              'kernel': ['linear','rbf']}\n",
        "grid = GridSearchCV(svm.SVC(), param_grid, refit = True, verbose = 3)"
      ]
    },
    {
      "cell_type": "code",
      "source": [
        "grid.fit(X_train_vectors_tfidf, y_train)"
      ],
      "metadata": {
        "colab": {
          "base_uri": "https://localhost:8080/",
          "height": 1000
        },
        "id": "1J7YUOb6S2Sa",
        "outputId": "2534c4d9-c1ca-4921-ea30-bcae5392072c"
      },
      "execution_count": null,
      "outputs": [
        {
          "output_type": "stream",
          "name": "stdout",
          "text": [
            "Fitting 5 folds for each of 32 candidates, totalling 160 fits\n",
            "[CV 1/5] END .....C=0.1, gamma=1, kernel=linear;, score=0.417 total time= 1.0min\n",
            "[CV 2/5] END .....C=0.1, gamma=1, kernel=linear;, score=0.406 total time= 1.0min\n",
            "[CV 3/5] END .....C=0.1, gamma=1, kernel=linear;, score=0.411 total time= 1.0min\n",
            "[CV 4/5] END .....C=0.1, gamma=1, kernel=linear;, score=0.410 total time= 1.0min\n",
            "[CV 5/5] END .....C=0.1, gamma=1, kernel=linear;, score=0.412 total time= 1.0min\n",
            "[CV 1/5] END ........C=0.1, gamma=1, kernel=rbf;, score=0.296 total time= 1.4min\n",
            "[CV 2/5] END ........C=0.1, gamma=1, kernel=rbf;, score=0.290 total time= 1.4min\n",
            "[CV 3/5] END ........C=0.1, gamma=1, kernel=rbf;, score=0.296 total time= 1.5min\n",
            "[CV 4/5] END ........C=0.1, gamma=1, kernel=rbf;, score=0.294 total time= 1.4min\n",
            "[CV 5/5] END ........C=0.1, gamma=1, kernel=rbf;, score=0.287 total time= 1.4min\n",
            "[CV 1/5] END ...C=0.1, gamma=0.1, kernel=linear;, score=0.417 total time= 1.0min\n",
            "[CV 2/5] END ...C=0.1, gamma=0.1, kernel=linear;, score=0.406 total time= 1.0min\n",
            "[CV 3/5] END ...C=0.1, gamma=0.1, kernel=linear;, score=0.411 total time= 1.0min\n",
            "[CV 4/5] END ...C=0.1, gamma=0.1, kernel=linear;, score=0.410 total time= 1.0min\n",
            "[CV 5/5] END ...C=0.1, gamma=0.1, kernel=linear;, score=0.412 total time= 1.0min\n",
            "[CV 1/5] END ......C=0.1, gamma=0.1, kernel=rbf;, score=0.215 total time= 1.1min\n",
            "[CV 2/5] END ......C=0.1, gamma=0.1, kernel=rbf;, score=0.215 total time= 1.1min\n",
            "[CV 3/5] END ......C=0.1, gamma=0.1, kernel=rbf;, score=0.215 total time= 1.1min\n",
            "[CV 4/5] END ......C=0.1, gamma=0.1, kernel=rbf;, score=0.215 total time= 1.1min\n",
            "[CV 5/5] END ......C=0.1, gamma=0.1, kernel=rbf;, score=0.215 total time= 1.1min\n",
            "[CV 1/5] END ..C=0.1, gamma=0.01, kernel=linear;, score=0.417 total time= 1.0min\n",
            "[CV 2/5] END ..C=0.1, gamma=0.01, kernel=linear;, score=0.406 total time= 1.0min\n",
            "[CV 3/5] END ..C=0.1, gamma=0.01, kernel=linear;, score=0.411 total time= 1.0min\n",
            "[CV 4/5] END ..C=0.1, gamma=0.01, kernel=linear;, score=0.410 total time= 1.0min\n",
            "[CV 5/5] END ..C=0.1, gamma=0.01, kernel=linear;, score=0.412 total time= 1.0min\n",
            "[CV 1/5] END .....C=0.1, gamma=0.01, kernel=rbf;, score=0.214 total time= 1.0min\n",
            "[CV 2/5] END .....C=0.1, gamma=0.01, kernel=rbf;, score=0.214 total time= 1.0min\n",
            "[CV 3/5] END .....C=0.1, gamma=0.01, kernel=rbf;, score=0.215 total time= 1.0min\n",
            "[CV 4/5] END .....C=0.1, gamma=0.01, kernel=rbf;, score=0.215 total time= 1.0min\n",
            "[CV 5/5] END .....C=0.1, gamma=0.01, kernel=rbf;, score=0.215 total time= 1.0min\n",
            "[CV 1/5] END .C=0.1, gamma=0.001, kernel=linear;, score=0.417 total time= 1.0min\n",
            "[CV 2/5] END .C=0.1, gamma=0.001, kernel=linear;, score=0.406 total time= 1.0min\n",
            "[CV 3/5] END .C=0.1, gamma=0.001, kernel=linear;, score=0.411 total time= 1.0min\n",
            "[CV 4/5] END .C=0.1, gamma=0.001, kernel=linear;, score=0.410 total time= 1.0min\n",
            "[CV 5/5] END .C=0.1, gamma=0.001, kernel=linear;, score=0.412 total time= 1.0min\n",
            "[CV 1/5] END ....C=0.1, gamma=0.001, kernel=rbf;, score=0.214 total time=  55.0s\n",
            "[CV 2/5] END ....C=0.1, gamma=0.001, kernel=rbf;, score=0.214 total time=  55.3s\n",
            "[CV 3/5] END ....C=0.1, gamma=0.001, kernel=rbf;, score=0.215 total time=  55.6s\n",
            "[CV 4/5] END ....C=0.1, gamma=0.001, kernel=rbf;, score=0.215 total time=  56.8s\n",
            "[CV 5/5] END ....C=0.1, gamma=0.001, kernel=rbf;, score=0.215 total time=  55.3s\n",
            "[CV 1/5] END .......C=1, gamma=1, kernel=linear;, score=0.588 total time=  54.1s\n",
            "[CV 2/5] END .......C=1, gamma=1, kernel=linear;, score=0.589 total time=  54.3s\n",
            "[CV 3/5] END .......C=1, gamma=1, kernel=linear;, score=0.596 total time=  55.1s\n",
            "[CV 4/5] END .......C=1, gamma=1, kernel=linear;, score=0.588 total time=  53.8s\n",
            "[CV 5/5] END .......C=1, gamma=1, kernel=linear;, score=0.589 total time=  54.4s\n",
            "[CV 1/5] END ..........C=1, gamma=1, kernel=rbf;, score=0.547 total time= 1.5min\n",
            "[CV 2/5] END ..........C=1, gamma=1, kernel=rbf;, score=0.538 total time= 1.6min\n",
            "[CV 3/5] END ..........C=1, gamma=1, kernel=rbf;, score=0.541 total time= 1.5min\n",
            "[CV 4/5] END ..........C=1, gamma=1, kernel=rbf;, score=0.545 total time= 1.5min\n",
            "[CV 5/5] END ..........C=1, gamma=1, kernel=rbf;, score=0.544 total time= 1.6min\n",
            "[CV 1/5] END .....C=1, gamma=0.1, kernel=linear;, score=0.588 total time=  54.1s\n",
            "[CV 2/5] END .....C=1, gamma=0.1, kernel=linear;, score=0.589 total time=  54.3s\n",
            "[CV 3/5] END .....C=1, gamma=0.1, kernel=linear;, score=0.596 total time=  54.4s\n",
            "[CV 4/5] END .....C=1, gamma=0.1, kernel=linear;, score=0.588 total time=  54.3s\n",
            "[CV 5/5] END .....C=1, gamma=0.1, kernel=linear;, score=0.589 total time=  54.7s\n",
            "[CV 1/5] END ........C=1, gamma=0.1, kernel=rbf;, score=0.471 total time= 1.1min\n",
            "[CV 2/5] END ........C=1, gamma=0.1, kernel=rbf;, score=0.460 total time= 1.1min\n",
            "[CV 3/5] END ........C=1, gamma=0.1, kernel=rbf;, score=0.455 total time= 1.1min\n",
            "[CV 4/5] END ........C=1, gamma=0.1, kernel=rbf;, score=0.468 total time= 1.1min\n",
            "[CV 5/5] END ........C=1, gamma=0.1, kernel=rbf;, score=0.462 total time= 1.1min\n",
            "[CV 1/5] END ....C=1, gamma=0.01, kernel=linear;, score=0.588 total time=  54.0s\n",
            "[CV 2/5] END ....C=1, gamma=0.01, kernel=linear;, score=0.589 total time=  54.5s\n",
            "[CV 3/5] END ....C=1, gamma=0.01, kernel=linear;, score=0.596 total time=  54.9s\n",
            "[CV 4/5] END ....C=1, gamma=0.01, kernel=linear;, score=0.588 total time=  55.1s\n",
            "[CV 5/5] END ....C=1, gamma=0.01, kernel=linear;, score=0.589 total time=  53.8s\n",
            "[CV 1/5] END .......C=1, gamma=0.01, kernel=rbf;, score=0.215 total time= 1.1min\n",
            "[CV 2/5] END .......C=1, gamma=0.01, kernel=rbf;, score=0.215 total time= 1.1min\n",
            "[CV 3/5] END .......C=1, gamma=0.01, kernel=rbf;, score=0.216 total time= 1.1min\n",
            "[CV 4/5] END .......C=1, gamma=0.01, kernel=rbf;, score=0.216 total time= 1.1min\n",
            "[CV 5/5] END .......C=1, gamma=0.01, kernel=rbf;, score=0.215 total time= 1.1min\n",
            "[CV 1/5] END ...C=1, gamma=0.001, kernel=linear;, score=0.588 total time=  54.5s\n",
            "[CV 2/5] END ...C=1, gamma=0.001, kernel=linear;, score=0.589 total time=  54.2s\n",
            "[CV 3/5] END ...C=1, gamma=0.001, kernel=linear;, score=0.596 total time=  54.9s\n",
            "[CV 4/5] END ...C=1, gamma=0.001, kernel=linear;, score=0.588 total time=  54.4s\n",
            "[CV 5/5] END ...C=1, gamma=0.001, kernel=linear;, score=0.589 total time=  54.7s\n",
            "[CV 1/5] END ......C=1, gamma=0.001, kernel=rbf;, score=0.214 total time= 1.0min\n",
            "[CV 2/5] END ......C=1, gamma=0.001, kernel=rbf;, score=0.214 total time= 1.0min\n",
            "[CV 3/5] END ......C=1, gamma=0.001, kernel=rbf;, score=0.215 total time= 1.0min\n",
            "[CV 4/5] END ......C=1, gamma=0.001, kernel=rbf;, score=0.215 total time=  59.8s\n",
            "[CV 5/5] END ......C=1, gamma=0.001, kernel=rbf;, score=0.215 total time= 1.0min\n",
            "[CV 1/5] END ......C=10, gamma=1, kernel=linear;, score=0.582 total time= 1.0min\n",
            "[CV 2/5] END ......C=10, gamma=1, kernel=linear;, score=0.586 total time=  59.0s\n",
            "[CV 3/5] END ......C=10, gamma=1, kernel=linear;, score=0.585 total time=  59.0s\n",
            "[CV 4/5] END ......C=10, gamma=1, kernel=linear;, score=0.568 total time=  59.3s\n",
            "[CV 5/5] END ......C=10, gamma=1, kernel=linear;, score=0.580 total time=  59.3s\n",
            "[CV 1/5] END .........C=10, gamma=1, kernel=rbf;, score=0.568 total time= 1.7min\n",
            "[CV 2/5] END .........C=10, gamma=1, kernel=rbf;, score=0.575 total time= 1.7min\n",
            "[CV 3/5] END .........C=10, gamma=1, kernel=rbf;, score=0.572 total time= 1.7min\n",
            "[CV 4/5] END .........C=10, gamma=1, kernel=rbf;, score=0.573 total time= 1.7min\n",
            "[CV 5/5] END .........C=10, gamma=1, kernel=rbf;, score=0.575 total time= 1.7min\n",
            "[CV 1/5] END ....C=10, gamma=0.1, kernel=linear;, score=0.582 total time=  59.8s\n",
            "[CV 2/5] END ....C=10, gamma=0.1, kernel=linear;, score=0.586 total time=  59.3s\n",
            "[CV 3/5] END ....C=10, gamma=0.1, kernel=linear;, score=0.585 total time=  59.4s\n",
            "[CV 4/5] END ....C=10, gamma=0.1, kernel=linear;, score=0.568 total time=  59.2s\n",
            "[CV 5/5] END ....C=10, gamma=0.1, kernel=linear;, score=0.580 total time=  58.9s\n",
            "[CV 1/5] END .......C=10, gamma=0.1, kernel=rbf;, score=0.595 total time= 1.1min\n",
            "[CV 2/5] END .......C=10, gamma=0.1, kernel=rbf;, score=0.604 total time= 1.1min\n",
            "[CV 3/5] END .......C=10, gamma=0.1, kernel=rbf;, score=0.606 total time= 1.1min\n",
            "[CV 4/5] END .......C=10, gamma=0.1, kernel=rbf;, score=0.592 total time= 1.1min\n",
            "[CV 5/5] END .......C=10, gamma=0.1, kernel=rbf;, score=0.594 total time= 1.1min\n",
            "[CV 1/5] END ...C=10, gamma=0.01, kernel=linear;, score=0.582 total time=  58.8s\n",
            "[CV 2/5] END ...C=10, gamma=0.01, kernel=linear;, score=0.586 total time=  58.5s\n",
            "[CV 3/5] END ...C=10, gamma=0.01, kernel=linear;, score=0.585 total time=  59.7s\n",
            "[CV 4/5] END ...C=10, gamma=0.01, kernel=linear;, score=0.568 total time=  58.9s\n",
            "[CV 5/5] END ...C=10, gamma=0.01, kernel=linear;, score=0.580 total time=  58.9s\n",
            "[CV 1/5] END ......C=10, gamma=0.01, kernel=rbf;, score=0.483 total time= 1.0min\n",
            "[CV 2/5] END ......C=10, gamma=0.01, kernel=rbf;, score=0.473 total time= 1.1min\n",
            "[CV 3/5] END ......C=10, gamma=0.01, kernel=rbf;, score=0.469 total time= 1.0min\n",
            "[CV 4/5] END ......C=10, gamma=0.01, kernel=rbf;, score=0.478 total time= 1.0min\n",
            "[CV 5/5] END ......C=10, gamma=0.01, kernel=rbf;, score=0.476 total time= 1.1min\n",
            "[CV 1/5] END ..C=10, gamma=0.001, kernel=linear;, score=0.582 total time= 1.0min\n",
            "[CV 2/5] END ..C=10, gamma=0.001, kernel=linear;, score=0.586 total time= 1.0min\n",
            "[CV 3/5] END ..C=10, gamma=0.001, kernel=linear;, score=0.585 total time= 1.0min\n",
            "[CV 4/5] END ..C=10, gamma=0.001, kernel=linear;, score=0.568 total time= 1.0min\n",
            "[CV 5/5] END ..C=10, gamma=0.001, kernel=linear;, score=0.580 total time=  59.3s\n",
            "[CV 1/5] END .....C=10, gamma=0.001, kernel=rbf;, score=0.215 total time= 1.1min\n",
            "[CV 2/5] END .....C=10, gamma=0.001, kernel=rbf;, score=0.215 total time= 1.1min\n",
            "[CV 3/5] END .....C=10, gamma=0.001, kernel=rbf;, score=0.216 total time= 1.1min\n",
            "[CV 4/5] END .....C=10, gamma=0.001, kernel=rbf;, score=0.216 total time= 1.1min\n",
            "[CV 5/5] END .....C=10, gamma=0.001, kernel=rbf;, score=0.215 total time= 1.1min\n",
            "[CV 1/5] END .....C=100, gamma=1, kernel=linear;, score=0.565 total time= 1.0min\n",
            "[CV 2/5] END .....C=100, gamma=1, kernel=linear;, score=0.574 total time= 1.0min\n",
            "[CV 3/5] END .....C=100, gamma=1, kernel=linear;, score=0.577 total time=  58.8s\n",
            "[CV 4/5] END .....C=100, gamma=1, kernel=linear;, score=0.559 total time=  59.0s\n",
            "[CV 5/5] END .....C=100, gamma=1, kernel=linear;, score=0.570 total time=  58.6s\n",
            "[CV 1/5] END ........C=100, gamma=1, kernel=rbf;, score=0.568 total time= 1.7min\n",
            "[CV 2/5] END ........C=100, gamma=1, kernel=rbf;, score=0.576 total time= 1.7min\n",
            "[CV 3/5] END ........C=100, gamma=1, kernel=rbf;, score=0.572 total time= 1.7min\n",
            "[CV 4/5] END ........C=100, gamma=1, kernel=rbf;, score=0.573 total time= 1.7min\n",
            "[CV 5/5] END ........C=100, gamma=1, kernel=rbf;, score=0.575 total time= 1.7min\n",
            "[CV 1/5] END ...C=100, gamma=0.1, kernel=linear;, score=0.565 total time=  59.9s\n",
            "[CV 2/5] END ...C=100, gamma=0.1, kernel=linear;, score=0.574 total time=  59.8s\n",
            "[CV 3/5] END ...C=100, gamma=0.1, kernel=linear;, score=0.577 total time=  58.8s\n",
            "[CV 4/5] END ...C=100, gamma=0.1, kernel=linear;, score=0.559 total time=  58.9s\n",
            "[CV 5/5] END ...C=100, gamma=0.1, kernel=linear;, score=0.570 total time=  59.1s\n",
            "[CV 1/5] END ......C=100, gamma=0.1, kernel=rbf;, score=0.583 total time= 1.2min\n",
            "[CV 2/5] END ......C=100, gamma=0.1, kernel=rbf;, score=0.594 total time= 1.2min\n",
            "[CV 3/5] END ......C=100, gamma=0.1, kernel=rbf;, score=0.586 total time= 1.2min\n",
            "[CV 4/5] END ......C=100, gamma=0.1, kernel=rbf;, score=0.578 total time= 1.1min\n",
            "[CV 5/5] END ......C=100, gamma=0.1, kernel=rbf;, score=0.588 total time= 1.2min\n",
            "[CV 1/5] END ..C=100, gamma=0.01, kernel=linear;, score=0.565 total time= 1.0min\n",
            "[CV 2/5] END ..C=100, gamma=0.01, kernel=linear;, score=0.574 total time=  59.4s\n",
            "[CV 3/5] END ..C=100, gamma=0.01, kernel=linear;, score=0.577 total time=  58.3s\n",
            "[CV 4/5] END ..C=100, gamma=0.01, kernel=linear;, score=0.559 total time=  59.2s\n",
            "[CV 5/5] END ..C=100, gamma=0.01, kernel=linear;, score=0.570 total time=  58.9s\n",
            "[CV 1/5] END .....C=100, gamma=0.01, kernel=rbf;, score=0.593 total time= 1.0min\n",
            "[CV 2/5] END .....C=100, gamma=0.01, kernel=rbf;, score=0.599 total time= 1.0min\n",
            "[CV 3/5] END .....C=100, gamma=0.01, kernel=rbf;, score=0.607 total time= 1.0min\n",
            "[CV 4/5] END .....C=100, gamma=0.01, kernel=rbf;, score=0.590 total time= 1.0min\n",
            "[CV 5/5] END .....C=100, gamma=0.01, kernel=rbf;, score=0.593 total time= 1.0min\n",
            "[CV 1/5] END .C=100, gamma=0.001, kernel=linear;, score=0.565 total time= 1.0min\n",
            "[CV 2/5] END .C=100, gamma=0.001, kernel=linear;, score=0.574 total time=  59.2s\n",
            "[CV 3/5] END .C=100, gamma=0.001, kernel=linear;, score=0.577 total time=  58.0s\n",
            "[CV 4/5] END .C=100, gamma=0.001, kernel=linear;, score=0.559 total time=  58.7s\n",
            "[CV 5/5] END .C=100, gamma=0.001, kernel=linear;, score=0.570 total time=  58.5s\n",
            "[CV 1/5] END ....C=100, gamma=0.001, kernel=rbf;, score=0.485 total time= 1.0min\n",
            "[CV 2/5] END ....C=100, gamma=0.001, kernel=rbf;, score=0.475 total time= 1.0min\n",
            "[CV 3/5] END ....C=100, gamma=0.001, kernel=rbf;, score=0.470 total time= 1.0min\n",
            "[CV 4/5] END ....C=100, gamma=0.001, kernel=rbf;, score=0.480 total time= 1.0min\n",
            "[CV 5/5] END ....C=100, gamma=0.001, kernel=rbf;, score=0.477 total time= 1.1min\n"
          ]
        },
        {
          "output_type": "execute_result",
          "data": {
            "text/plain": [
              "GridSearchCV(estimator=SVC(),\n",
              "             param_grid={'C': [0.1, 1, 10, 100], 'gamma': [1, 0.1, 0.01, 0.001],\n",
              "                         'kernel': ['linear', 'rbf']},\n",
              "             verbose=3)"
            ],
            "text/html": [
              "<style>#sk-container-id-1 {color: black;background-color: white;}#sk-container-id-1 pre{padding: 0;}#sk-container-id-1 div.sk-toggleable {background-color: white;}#sk-container-id-1 label.sk-toggleable__label {cursor: pointer;display: block;width: 100%;margin-bottom: 0;padding: 0.3em;box-sizing: border-box;text-align: center;}#sk-container-id-1 label.sk-toggleable__label-arrow:before {content: \"▸\";float: left;margin-right: 0.25em;color: #696969;}#sk-container-id-1 label.sk-toggleable__label-arrow:hover:before {color: black;}#sk-container-id-1 div.sk-estimator:hover label.sk-toggleable__label-arrow:before {color: black;}#sk-container-id-1 div.sk-toggleable__content {max-height: 0;max-width: 0;overflow: hidden;text-align: left;background-color: #f0f8ff;}#sk-container-id-1 div.sk-toggleable__content pre {margin: 0.2em;color: black;border-radius: 0.25em;background-color: #f0f8ff;}#sk-container-id-1 input.sk-toggleable__control:checked~div.sk-toggleable__content {max-height: 200px;max-width: 100%;overflow: auto;}#sk-container-id-1 input.sk-toggleable__control:checked~label.sk-toggleable__label-arrow:before {content: \"▾\";}#sk-container-id-1 div.sk-estimator input.sk-toggleable__control:checked~label.sk-toggleable__label {background-color: #d4ebff;}#sk-container-id-1 div.sk-label input.sk-toggleable__control:checked~label.sk-toggleable__label {background-color: #d4ebff;}#sk-container-id-1 input.sk-hidden--visually {border: 0;clip: rect(1px 1px 1px 1px);clip: rect(1px, 1px, 1px, 1px);height: 1px;margin: -1px;overflow: hidden;padding: 0;position: absolute;width: 1px;}#sk-container-id-1 div.sk-estimator {font-family: monospace;background-color: #f0f8ff;border: 1px dotted black;border-radius: 0.25em;box-sizing: border-box;margin-bottom: 0.5em;}#sk-container-id-1 div.sk-estimator:hover {background-color: #d4ebff;}#sk-container-id-1 div.sk-parallel-item::after {content: \"\";width: 100%;border-bottom: 1px solid gray;flex-grow: 1;}#sk-container-id-1 div.sk-label:hover label.sk-toggleable__label {background-color: #d4ebff;}#sk-container-id-1 div.sk-serial::before {content: \"\";position: absolute;border-left: 1px solid gray;box-sizing: border-box;top: 0;bottom: 0;left: 50%;z-index: 0;}#sk-container-id-1 div.sk-serial {display: flex;flex-direction: column;align-items: center;background-color: white;padding-right: 0.2em;padding-left: 0.2em;position: relative;}#sk-container-id-1 div.sk-item {position: relative;z-index: 1;}#sk-container-id-1 div.sk-parallel {display: flex;align-items: stretch;justify-content: center;background-color: white;position: relative;}#sk-container-id-1 div.sk-item::before, #sk-container-id-1 div.sk-parallel-item::before {content: \"\";position: absolute;border-left: 1px solid gray;box-sizing: border-box;top: 0;bottom: 0;left: 50%;z-index: -1;}#sk-container-id-1 div.sk-parallel-item {display: flex;flex-direction: column;z-index: 1;position: relative;background-color: white;}#sk-container-id-1 div.sk-parallel-item:first-child::after {align-self: flex-end;width: 50%;}#sk-container-id-1 div.sk-parallel-item:last-child::after {align-self: flex-start;width: 50%;}#sk-container-id-1 div.sk-parallel-item:only-child::after {width: 0;}#sk-container-id-1 div.sk-dashed-wrapped {border: 1px dashed gray;margin: 0 0.4em 0.5em 0.4em;box-sizing: border-box;padding-bottom: 0.4em;background-color: white;}#sk-container-id-1 div.sk-label label {font-family: monospace;font-weight: bold;display: inline-block;line-height: 1.2em;}#sk-container-id-1 div.sk-label-container {text-align: center;}#sk-container-id-1 div.sk-container {/* jupyter's `normalize.less` sets `[hidden] { display: none; }` but bootstrap.min.css set `[hidden] { display: none !important; }` so we also need the `!important` here to be able to override the default hidden behavior on the sphinx rendered scikit-learn.org. See: https://github.com/scikit-learn/scikit-learn/issues/21755 */display: inline-block !important;position: relative;}#sk-container-id-1 div.sk-text-repr-fallback {display: none;}</style><div id=\"sk-container-id-1\" class=\"sk-top-container\"><div class=\"sk-text-repr-fallback\"><pre>GridSearchCV(estimator=SVC(),\n",
              "             param_grid={&#x27;C&#x27;: [0.1, 1, 10, 100], &#x27;gamma&#x27;: [1, 0.1, 0.01, 0.001],\n",
              "                         &#x27;kernel&#x27;: [&#x27;linear&#x27;, &#x27;rbf&#x27;]},\n",
              "             verbose=3)</pre><b>In a Jupyter environment, please rerun this cell to show the HTML representation or trust the notebook. <br />On GitHub, the HTML representation is unable to render, please try loading this page with nbviewer.org.</b></div><div class=\"sk-container\" hidden><div class=\"sk-item sk-dashed-wrapped\"><div class=\"sk-label-container\"><div class=\"sk-label sk-toggleable\"><input class=\"sk-toggleable__control sk-hidden--visually\" id=\"sk-estimator-id-1\" type=\"checkbox\" ><label for=\"sk-estimator-id-1\" class=\"sk-toggleable__label sk-toggleable__label-arrow\">GridSearchCV</label><div class=\"sk-toggleable__content\"><pre>GridSearchCV(estimator=SVC(),\n",
              "             param_grid={&#x27;C&#x27;: [0.1, 1, 10, 100], &#x27;gamma&#x27;: [1, 0.1, 0.01, 0.001],\n",
              "                         &#x27;kernel&#x27;: [&#x27;linear&#x27;, &#x27;rbf&#x27;]},\n",
              "             verbose=3)</pre></div></div></div><div class=\"sk-parallel\"><div class=\"sk-parallel-item\"><div class=\"sk-item\"><div class=\"sk-label-container\"><div class=\"sk-label sk-toggleable\"><input class=\"sk-toggleable__control sk-hidden--visually\" id=\"sk-estimator-id-2\" type=\"checkbox\" ><label for=\"sk-estimator-id-2\" class=\"sk-toggleable__label sk-toggleable__label-arrow\">estimator: SVC</label><div class=\"sk-toggleable__content\"><pre>SVC()</pre></div></div></div><div class=\"sk-serial\"><div class=\"sk-item\"><div class=\"sk-estimator sk-toggleable\"><input class=\"sk-toggleable__control sk-hidden--visually\" id=\"sk-estimator-id-3\" type=\"checkbox\" ><label for=\"sk-estimator-id-3\" class=\"sk-toggleable__label sk-toggleable__label-arrow\">SVC</label><div class=\"sk-toggleable__content\"><pre>SVC()</pre></div></div></div></div></div></div></div></div></div></div>"
            ]
          },
          "metadata": {},
          "execution_count": 16
        }
      ]
    },
    {
      "cell_type": "code",
      "execution_count": null,
      "metadata": {
        "colab": {
          "base_uri": "https://localhost:8080/"
        },
        "id": "GE3799lBymPW",
        "outputId": "5d84e816-b8f3-4f9b-e180-ad931c22c77e"
      },
      "outputs": [
        {
          "output_type": "stream",
          "name": "stdout",
          "text": [
            "{'C': 10, 'gamma': 0.1, 'kernel': 'rbf'}\n"
          ]
        }
      ],
      "source": [
        "print(grid.best_params_)"
      ]
    },
    {
      "cell_type": "code",
      "execution_count": null,
      "metadata": {
        "id": "qhnmGfJx9tn-"
      },
      "outputs": [],
      "source": [
        "# training svm classifier\n",
        "from sklearn import svm\n",
        "SVM = svm.SVC(C=10, kernel='rbf', gamma=0.1)\n",
        "text_clf_svm = SVM.fit(X_train_vectors_tfidf, y_train)"
      ]
    },
    {
      "cell_type": "code",
      "execution_count": null,
      "metadata": {
        "colab": {
          "base_uri": "https://localhost:8080/"
        },
        "id": "8PcPT1d59xpa",
        "outputId": "fa10ed6b-a648-4efb-e4a8-c43786488c03"
      },
      "outputs": [
        {
          "output_type": "execute_result",
          "data": {
            "text/plain": [
              "0.7390862944162436"
            ]
          },
          "metadata": {},
          "execution_count": 117
        }
      ],
      "source": [
        "# Testing classifier and checking accuracy\n",
        "predicted_svm = text_clf_svm.predict(X_test_vectors_tfidf)\n",
        "np.mean(predicted_svm == y_test)"
      ]
    },
    {
      "cell_type": "code",
      "execution_count": null,
      "metadata": {
        "id": "eWdIBx8Q91CV"
      },
      "outputs": [],
      "source": [
        "y_pred = text_clf_svm.predict(X_test_vectors_tfidf)"
      ]
    },
    {
      "cell_type": "code",
      "execution_count": null,
      "metadata": {
        "colab": {
          "base_uri": "https://localhost:8080/"
        },
        "id": "I20-IkwW94Mf",
        "outputId": "1a5d440b-12fa-4bb4-f5e2-0071533996b9"
      },
      "outputs": [
        {
          "output_type": "stream",
          "name": "stdout",
          "text": [
            "Accuracy: 0.7390862944162436\n"
          ]
        }
      ],
      "source": [
        "from sklearn import metrics\n",
        "print(\"Accuracy:\",metrics.accuracy_score(y_test, y_pred))"
      ]
    },
    {
      "cell_type": "code",
      "source": [
        "from sklearn.metrics import (accuracy_score, recall_score, precision_score,\n",
        "                             f1_score, cohen_kappa_score, confusion_matrix,\n",
        "                             classification_report)\n",
        "\n",
        "accuracy = accuracy_score(y_true=y_test, y_pred=predicted_svm)\n",
        "recall = recall_score(y_true=y_test, y_pred=predicted_svm, average=\"weighted\", zero_division=0)\n",
        "precision = precision_score(y_true=y_test, y_pred=predicted_svm, average=\"weighted\", zero_division=0)\n",
        "f1_w = f1_score(y_true=y_test, y_pred=predicted_svm, average=\"weighted\", zero_division=0)\n",
        "f1_m = f1_score(y_true=y_test, y_pred=predicted_svm, average=\"macro\", zero_division=0)\n",
        "cohens_kappa = cohen_kappa_score(y_test, predicted_svm)\n",
        "cmatrix = confusion_matrix(y_true=y_test, y_pred=predicted_svm)\n",
        "clf_report = classification_report(y_true=y_test, y_pred=predicted_svm, zero_division=0)"
      ],
      "metadata": {
        "id": "mcN_nsEqLCLj"
      },
      "execution_count": null,
      "outputs": []
    },
    {
      "cell_type": "code",
      "source": [
        "print(\"Accuracy:\", accuracy, \"Recall:\", recall, \"Precision: \", precision, \"F1 score-Weighted: \", f1_w, \"F1 score-Macro: \", f1_m, \"Cohens kappa: \", cohens_kappa)\n",
        "print(\"Classification Report: \\n\",clf_report, \"\\nConfusion Matrix: \\n\", cmatrix)"
      ],
      "metadata": {
        "colab": {
          "base_uri": "https://localhost:8080/"
        },
        "id": "FG5dyxw_LPkb",
        "outputId": "ca14dde3-49bf-49fa-cf2b-eb3d6efb3432"
      },
      "execution_count": null,
      "outputs": [
        {
          "output_type": "stream",
          "name": "stdout",
          "text": [
            "Accuracy: 0.7390862944162436 Recall: 0.7390862944162436 Precision:  0.730060587013986 F1 score-Weighted:  0.7205842795221769 F1 score-Macro:  0.6305251994356826 Cohens kappa:  0.5652599518625154\n",
            "Classification Report: \n",
            "                                                                                      precision    recall  f1-score   support\n",
            "\n",
            "_interventionsmaßnahme_interventionsmaßnaher_interventionsaufgabe_präventionsansatz       0.79      0.50      0.61        22\n",
            "             _portfoliobearbeitung_portfolioaufgabe_vorstrukturierung_portfolioteil       0.74      0.77      0.76        22\n",
            "                      _powerpoint_powerpointpräsentation_powerpointfolie_gesamtbild       0.89      0.84      0.86        19\n",
            "                                          _verständlich_reflexion_beispiel_anwenden       0.75      0.89      0.81      2229\n",
            "                   _vorlesungsvideo_videomaterial_vorlesungsfolie_videoaufzeichnung       0.96      0.74      0.84        31\n",
            "                               beibringen_unterrichtsstunde_unterrichten_unterricht       0.66      0.58      0.62       319\n",
            "                                feedbackdatei_feedback_feedbackpapier_feedbackbogen       0.83      0.74      0.79        47\n",
            "                                        herausforderung_nachdenken_schwierig_jedoch       0.46      0.25      0.32       308\n",
            "                             informatikunterricht_technologie_informatik_interaktiv       0.79      0.48      0.60        93\n",
            "            klassenmanagment_klassenmanagement_unterrichtsstörung_unterrichtsstunde       0.76      0.60      0.67       270\n",
            "                       konfliktanalyse_konflikanalyse_konfliktsituation_konfliktart       0.72      0.55      0.62        33\n",
            "                    konzentrieren_konzentriert_bearbeitungszeit_aufgabenbearbeitung       0.60      0.42      0.50       111\n",
            "                     literaturbezug_literaturübersicht_literaturvorschlag_literatur       0.68      0.50      0.58        38\n",
            "                   mathematikunterricht_mathematikstunde_mathefähigkeit_mathearbeit       0.91      0.67      0.77        30\n",
            "                             musikunterricht_musikstunde_musikerziehung_musikalisch       0.88      0.25      0.39        28\n",
            "                                pädagogischen_pädagogisch_pädagogische_diagnostisch       0.89      0.88      0.88       225\n",
            "                 sprachunterricht_sprachvorlesung_sprachkenntniss_sprachentwicklung       0.73      0.18      0.29        44\n",
            "                            wissenschaft_erkunden_fortbildungsveranstaltung_science       1.00      0.19      0.31        27\n",
            "                                  zufriedenstellend_zufrieden_lernergebnis_ergebnis       0.80      0.73      0.76        44\n",
            "\n",
            "                                                                           accuracy                           0.74      3940\n",
            "                                                                          macro avg       0.78      0.57      0.63      3940\n",
            "                                                                       weighted avg       0.73      0.74      0.72      3940\n",
            " \n",
            "Confusion Matrix: \n",
            " [[  11    0    0   11    0    0    0    0    0    0    0    0    0    0\n",
            "     0    0    0    0    0]\n",
            " [   0   17    0    5    0    0    0    0    0    0    0    0    0    0\n",
            "     0    0    0    0    0]\n",
            " [   0    0   16    3    0    0    0    0    0    0    0    0    0    0\n",
            "     0    0    0    0    0]\n",
            " [   1    2    2 1987    0   55    6   68   10   37    3   24    8    0\n",
            "     0   17    2    0    7]\n",
            " [   0    0    0    6   23    1    0    0    0    0    0    0    1    0\n",
            "     0    0    0    0    0]\n",
            " [   0    0    0  117    0  186    0    5    2    7    0    0    0    1\n",
            "     1    0    0    0    0]\n",
            " [   0    1    0   11    0    0   35    0    0    0    0    0    0    0\n",
            "     0    0    0    0    0]\n",
            " [   0    0    0  214    0   12    0   76    0    0    0    5    0    1\n",
            "     0    0    0    0    0]\n",
            " [   0    0    0   42    0    0    0    5   45    0    0    0    0    0\n",
            "     0    0    0    0    1]\n",
            " [   2    0    0   85    1    9    1    2    0  163    4    1    0    0\n",
            "     0    2    0    0    0]\n",
            " [   0    0    0   14    0    0    0    0    0    1   18    0    0    0\n",
            "     0    0    0    0    0]\n",
            " [   0    1    0   61    0    0    0    1    0    1    0   47    0    0\n",
            "     0    0    0    0    0]\n",
            " [   0    0    0   19    0    0    0    0    0    0    0    0   19    0\n",
            "     0    0    0    0    0]\n",
            " [   0    0    0    8    0    0    0    1    0    1    0    0    0   20\n",
            "     0    0    0    0    0]\n",
            " [   0    0    0   11    0    7    0    3    0    0    0    0    0    0\n",
            "     7    0    0    0    0]\n",
            " [   0    0    0   25    0    0    0    0    0    2    0    0    0    0\n",
            "     0  197    1    0    0]\n",
            " [   0    1    0   16    0    9    0    0    0    3    0    1    0    0\n",
            "     0    6    8    0    0]\n",
            " [   0    0    0   17    0    1    0    4    0    0    0    0    0    0\n",
            "     0    0    0    5    0]\n",
            " [   0    1    0   11    0    0    0    0    0    0    0    0    0    0\n",
            "     0    0    0    0   32]]\n"
          ]
        }
      ]
    },
    {
      "cell_type": "markdown",
      "source": [
        "Naive Bayes Classifier"
      ],
      "metadata": {
        "id": "mu6mxeE9fLOR"
      }
    },
    {
      "cell_type": "code",
      "source": [
        "# training naive bayes classifier\n",
        "from sklearn.naive_bayes import MultinomialNB\n",
        "nb = MultinomialNB()\n",
        "text_clf = nb.fit(X_train_vectors_tfidf, y_train)"
      ],
      "metadata": {
        "id": "tha-78OtMMlb"
      },
      "execution_count": null,
      "outputs": []
    },
    {
      "cell_type": "code",
      "source": [
        "y_pred = text_clf.predict(X_test_vectors_tfidf)"
      ],
      "metadata": {
        "id": "iItbfAVQMRk4"
      },
      "execution_count": null,
      "outputs": []
    },
    {
      "cell_type": "code",
      "source": [
        "# Testing classifier and checking accuracy\n",
        "predicted_nb = text_clf.predict(X_test_vectors_tfidf)\n",
        "np.mean(predicted_nb == y_test)"
      ],
      "metadata": {
        "colab": {
          "base_uri": "https://localhost:8080/"
        },
        "id": "akkhElzbMYnS",
        "outputId": "e49e8654-adc3-47a8-d52d-5805b75f7504"
      },
      "execution_count": null,
      "outputs": [
        {
          "output_type": "execute_result",
          "data": {
            "text/plain": [
              "0.5662436548223351"
            ]
          },
          "metadata": {},
          "execution_count": 124
        }
      ]
    },
    {
      "cell_type": "code",
      "source": [
        "print(\"Accuracy:\",metrics.accuracy_score(y_test, y_pred))"
      ],
      "metadata": {
        "colab": {
          "base_uri": "https://localhost:8080/"
        },
        "id": "8CuT5uw1MbD6",
        "outputId": "81747182-13f2-4989-effc-16372a51beb9"
      },
      "execution_count": null,
      "outputs": [
        {
          "output_type": "stream",
          "name": "stdout",
          "text": [
            "Accuracy: 0.5662436548223351\n"
          ]
        }
      ]
    },
    {
      "cell_type": "code",
      "source": [
        "from sklearn.metrics import (accuracy_score, recall_score, precision_score,\n",
        "                             f1_score, cohen_kappa_score, confusion_matrix,\n",
        "                             classification_report)\n",
        "\n",
        "accuracy = accuracy_score(y_true=y_test, y_pred=predicted_nb)\n",
        "recall = recall_score(y_true=y_test, y_pred=predicted_nb, average=\"weighted\", zero_division=0)\n",
        "precision = precision_score(y_true=y_test, y_pred=predicted_nb, average=\"weighted\", zero_division=0)\n",
        "f1_w = f1_score(y_true=y_test, y_pred=predicted_nb, average=\"weighted\", zero_division=0)\n",
        "f1_m = f1_score(y_true=y_test, y_pred=predicted_nb, average=\"macro\", zero_division=0)\n",
        "cohens_kappa = cohen_kappa_score(y_test, predicted_nb)\n",
        "cmatrix = confusion_matrix(y_true=y_test, y_pred=predicted_nb)\n",
        "clf_report = classification_report(y_true=y_test, y_pred=predicted_nb, zero_division=0)"
      ],
      "metadata": {
        "id": "Ql4pOV2OMciK"
      },
      "execution_count": null,
      "outputs": []
    },
    {
      "cell_type": "code",
      "source": [
        "print(\"Accuracy:\", accuracy, \"Recall:\", recall, \"Precision: \", precision, \"F1 score-Weighted: \", f1_w, \"F1 score-Macro: \", f1_m, \"Cohens kappa: \", cohens_kappa)\n",
        "print(\"Classification Report: \\n\",clf_report, \"\\nConfusion Matrix: \\n\", cmatrix)\n"
      ],
      "metadata": {
        "colab": {
          "base_uri": "https://localhost:8080/"
        },
        "id": "jLhv-P5pMcmm",
        "outputId": "7dd14dcb-fd64-4fef-ee37-301fef3d79dd"
      },
      "execution_count": null,
      "outputs": [
        {
          "output_type": "stream",
          "name": "stdout",
          "text": [
            "Accuracy: 0.5662436548223351 Recall: 0.5662436548223351 Precision:  0.39988142751966527 F1 score-Weighted:  0.41143472498630734 F1 score-Macro:  0.04009783262130682 Cohens kappa:  0.004043752816789814\n",
            "Classification Report: \n",
            "                                                                                      precision    recall  f1-score   support\n",
            "\n",
            "_interventionsmaßnahme_interventionsmaßnaher_interventionsaufgabe_präventionsansatz       0.00      0.00      0.00        22\n",
            "             _portfoliobearbeitung_portfolioaufgabe_vorstrukturierung_portfolioteil       0.00      0.00      0.00        22\n",
            "                      _powerpoint_powerpointpräsentation_powerpointfolie_gesamtbild       0.00      0.00      0.00        19\n",
            "                                          _verständlich_reflexion_beispiel_anwenden       0.57      1.00      0.72      2229\n",
            "                   _vorlesungsvideo_videomaterial_vorlesungsfolie_videoaufzeichnung       0.00      0.00      0.00        31\n",
            "                               beibringen_unterrichtsstunde_unterrichten_unterricht       0.00      0.00      0.00       319\n",
            "                                feedbackdatei_feedback_feedbackpapier_feedbackbogen       0.00      0.00      0.00        47\n",
            "                                        herausforderung_nachdenken_schwierig_jedoch       0.29      0.01      0.01       308\n",
            "                             informatikunterricht_technologie_informatik_interaktiv       0.00      0.00      0.00        93\n",
            "            klassenmanagment_klassenmanagement_unterrichtsstörung_unterrichtsstunde       0.00      0.00      0.00       270\n",
            "                       konfliktanalyse_konflikanalyse_konfliktsituation_konfliktart       0.00      0.00      0.00        33\n",
            "                    konzentrieren_konzentriert_bearbeitungszeit_aufgabenbearbeitung       0.00      0.00      0.00       111\n",
            "                     literaturbezug_literaturübersicht_literaturvorschlag_literatur       0.00      0.00      0.00        38\n",
            "                   mathematikunterricht_mathematikstunde_mathefähigkeit_mathearbeit       0.00      0.00      0.00        30\n",
            "                             musikunterricht_musikstunde_musikerziehung_musikalisch       0.00      0.00      0.00        28\n",
            "                                pädagogischen_pädagogisch_pädagogische_diagnostisch       1.00      0.01      0.03       225\n",
            "                 sprachunterricht_sprachvorlesung_sprachkenntniss_sprachentwicklung       0.00      0.00      0.00        44\n",
            "                            wissenschaft_erkunden_fortbildungsveranstaltung_science       0.00      0.00      0.00        27\n",
            "                                  zufriedenstellend_zufrieden_lernergebnis_ergebnis       0.00      0.00      0.00        44\n",
            "\n",
            "                                                                           accuracy                           0.57      3940\n",
            "                                                                          macro avg       0.10      0.05      0.04      3940\n",
            "                                                                       weighted avg       0.40      0.57      0.41      3940\n",
            " \n",
            "Confusion Matrix: \n",
            " [[   0    0    0   22    0    0    0    0    0    0    0    0    0    0\n",
            "     0    0    0    0    0]\n",
            " [   0    0    0   22    0    0    0    0    0    0    0    0    0    0\n",
            "     0    0    0    0    0]\n",
            " [   0    0    0   19    0    0    0    0    0    0    0    0    0    0\n",
            "     0    0    0    0    0]\n",
            " [   0    0    0 2226    0    0    0    3    0    0    0    0    0    0\n",
            "     0    0    0    0    0]\n",
            " [   0    0    0   30    0    0    0    1    0    0    0    0    0    0\n",
            "     0    0    0    0    0]\n",
            " [   0    0    0  319    0    0    0    0    0    0    0    0    0    0\n",
            "     0    0    0    0    0]\n",
            " [   0    0    0   47    0    0    0    0    0    0    0    0    0    0\n",
            "     0    0    0    0    0]\n",
            " [   0    0    0  306    0    0    0    2    0    0    0    0    0    0\n",
            "     0    0    0    0    0]\n",
            " [   0    0    0   92    0    0    0    1    0    0    0    0    0    0\n",
            "     0    0    0    0    0]\n",
            " [   0    0    0  270    0    0    0    0    0    0    0    0    0    0\n",
            "     0    0    0    0    0]\n",
            " [   0    0    0   33    0    0    0    0    0    0    0    0    0    0\n",
            "     0    0    0    0    0]\n",
            " [   0    0    0  111    0    0    0    0    0    0    0    0    0    0\n",
            "     0    0    0    0    0]\n",
            " [   0    0    0   38    0    0    0    0    0    0    0    0    0    0\n",
            "     0    0    0    0    0]\n",
            " [   0    0    0   30    0    0    0    0    0    0    0    0    0    0\n",
            "     0    0    0    0    0]\n",
            " [   0    0    0   28    0    0    0    0    0    0    0    0    0    0\n",
            "     0    0    0    0    0]\n",
            " [   0    0    0  222    0    0    0    0    0    0    0    0    0    0\n",
            "     0    3    0    0    0]\n",
            " [   0    0    0   44    0    0    0    0    0    0    0    0    0    0\n",
            "     0    0    0    0    0]\n",
            " [   0    0    0   27    0    0    0    0    0    0    0    0    0    0\n",
            "     0    0    0    0    0]\n",
            " [   0    0    0   44    0    0    0    0    0    0    0    0    0    0\n",
            "     0    0    0    0    0]]\n"
          ]
        }
      ]
    },
    {
      "cell_type": "code",
      "source": [],
      "metadata": {
        "id": "kHiJRrSnMcod"
      },
      "execution_count": null,
      "outputs": []
    },
    {
      "cell_type": "markdown",
      "source": [
        "Logistic Regression"
      ],
      "metadata": {
        "id": "tgDB0-8PNFkm"
      }
    },
    {
      "cell_type": "code",
      "source": [
        "from sklearn.linear_model import LogisticRegression\n",
        "regr = LogisticRegression(C=30.0, solver='newton-cg', multi_class='multinomial', random_state=40)\n",
        "text_clf_reg = regr.fit(X_train_vectors_tfidf, y_train)"
      ],
      "metadata": {
        "id": "_7DhZgzCMcsZ"
      },
      "execution_count": null,
      "outputs": []
    },
    {
      "cell_type": "code",
      "source": [
        "y_pred = text_clf_reg.predict(X_test_vectors_tfidf)"
      ],
      "metadata": {
        "id": "I2o7dGPsMoN1"
      },
      "execution_count": null,
      "outputs": []
    },
    {
      "cell_type": "code",
      "source": [
        "# Testing classifier and checking accuracy\n",
        "predicted_reg = text_clf_reg.predict(X_test_vectors_tfidf)"
      ],
      "metadata": {
        "id": "r6LvWapcMwuX"
      },
      "execution_count": null,
      "outputs": []
    },
    {
      "cell_type": "code",
      "source": [
        "print(\"Accuracy:\",metrics.accuracy_score(y_test, y_pred))"
      ],
      "metadata": {
        "colab": {
          "base_uri": "https://localhost:8080/"
        },
        "id": "ObdeYdF_MzE-",
        "outputId": "d695d2ef-1142-4032-fee2-a16b3e219b50"
      },
      "execution_count": null,
      "outputs": [
        {
          "output_type": "stream",
          "name": "stdout",
          "text": [
            "Accuracy: 0.7208121827411168\n"
          ]
        }
      ]
    },
    {
      "cell_type": "code",
      "source": [
        "accuracy = accuracy_score(y_true=y_test, y_pred=predicted_reg)\n",
        "recall = recall_score(y_true=y_test, y_pred=predicted_reg, average=\"weighted\", zero_division=0)\n",
        "precision = precision_score(y_true=y_test, y_pred=predicted_reg, average=\"weighted\", zero_division=0)\n",
        "f1_w = f1_score(y_true=y_test, y_pred=predicted_reg, average=\"weighted\", zero_division=0)\n",
        "f1_m = f1_score(y_true=y_test, y_pred=predicted_reg, average=\"macro\", zero_division=0)\n",
        "cohens_kappa = cohen_kappa_score(y_test, predicted_reg)\n",
        "cmatrix = confusion_matrix(y_true=y_test, y_pred=predicted_reg)\n",
        "clf_report = classification_report(y_true=y_test, y_pred=predicted_reg, zero_division=0)"
      ],
      "metadata": {
        "id": "Et7Aux9AMzv6"
      },
      "execution_count": null,
      "outputs": []
    },
    {
      "cell_type": "code",
      "source": [
        "print(\"Accuracy:\", accuracy, \"Recall:\", recall, \"Precision: \", precision, \"F1 score-Weighted: \", f1_w, \"F1 score-Macro: \", f1_m, \"Cohens kappa: \", cohens_kappa)\n",
        "print(\"Classification Report: \\n\",clf_report, \"\\nConfusion Matrix: \\n\", cmatrix)\n"
      ],
      "metadata": {
        "colab": {
          "base_uri": "https://localhost:8080/"
        },
        "id": "6HXLSXXWM2S3",
        "outputId": "023197d8-34cc-40e9-95b4-05c3ab4752bf"
      },
      "execution_count": null,
      "outputs": [
        {
          "output_type": "stream",
          "name": "stdout",
          "text": [
            "Accuracy: 0.7208121827411168 Recall: 0.7208121827411168 Precision:  0.7143444969830899 F1 score-Weighted:  0.704649178840528 F1 score-Macro:  0.5687417981914337 Cohens kappa:  0.5360631673440708\n",
            "Classification Report: \n",
            "                                                                                      precision    recall  f1-score   support\n",
            "\n",
            "_interventionsmaßnahme_interventionsmaßnaher_interventionsaufgabe_präventionsansatz       0.70      0.32      0.44        22\n",
            "             _portfoliobearbeitung_portfolioaufgabe_vorstrukturierung_portfolioteil       0.71      0.45      0.56        22\n",
            "                      _powerpoint_powerpointpräsentation_powerpointfolie_gesamtbild       0.92      0.63      0.75        19\n",
            "                                          _verständlich_reflexion_beispiel_anwenden       0.74      0.88      0.81      2229\n",
            "                   _vorlesungsvideo_videomaterial_vorlesungsfolie_videoaufzeichnung       1.00      0.52      0.68        31\n",
            "                               beibringen_unterrichtsstunde_unterrichten_unterricht       0.62      0.59      0.60       319\n",
            "                                feedbackdatei_feedback_feedbackpapier_feedbackbogen       0.79      0.57      0.67        47\n",
            "                                        herausforderung_nachdenken_schwierig_jedoch       0.44      0.30      0.36       308\n",
            "                             informatikunterricht_technologie_informatik_interaktiv       0.74      0.43      0.54        93\n",
            "            klassenmanagment_klassenmanagement_unterrichtsstörung_unterrichtsstunde       0.69      0.59      0.64       270\n",
            "                       konfliktanalyse_konflikanalyse_konfliktsituation_konfliktart       0.75      0.55      0.63        33\n",
            "                    konzentrieren_konzentriert_bearbeitungszeit_aufgabenbearbeitung       0.59      0.42      0.49       111\n",
            "                     literaturbezug_literaturübersicht_literaturvorschlag_literatur       0.59      0.42      0.49        38\n",
            "                   mathematikunterricht_mathematikstunde_mathefähigkeit_mathearbeit       1.00      0.47      0.64        30\n",
            "                             musikunterricht_musikstunde_musikerziehung_musikalisch       0.88      0.25      0.39        28\n",
            "                                pädagogischen_pädagogisch_pädagogische_diagnostisch       0.87      0.79      0.83       225\n",
            "                 sprachunterricht_sprachvorlesung_sprachkenntniss_sprachentwicklung       0.53      0.20      0.30        44\n",
            "                            wissenschaft_erkunden_fortbildungsveranstaltung_science       1.00      0.15      0.26        27\n",
            "                                  zufriedenstellend_zufrieden_lernergebnis_ergebnis       0.81      0.68      0.74        44\n",
            "\n",
            "                                                                           accuracy                           0.72      3940\n",
            "                                                                          macro avg       0.76      0.49      0.57      3940\n",
            "                                                                       weighted avg       0.71      0.72      0.70      3940\n",
            " \n",
            "Confusion Matrix: \n",
            " [[   7    0    0   13    0    0    0    1    0    0    0    0    0    0\n",
            "     0    1    0    0    0]\n",
            " [   0   10    0   10    0    0    0    1    0    0    0    1    0    0\n",
            "     0    0    0    0    0]\n",
            " [   0    0   12    6    0    0    0    0    0    1    0    0    0    0\n",
            "     0    0    0    0    0]\n",
            " [   0    2    1 1966    0   67    6   74   11   45    1   21    8    0\n",
            "     0   17    4    0    6]\n",
            " [   0    0    0   10   16    1    0    2    0    0    0    0    2    0\n",
            "     0    0    0    0    0]\n",
            " [   1    0    0  103    0  187    0   10    3   13    0    1    0    0\n",
            "     1    0    0    0    0]\n",
            " [   0    0    0   19    0    0   27    1    0    0    0    0    0    0\n",
            "     0    0    0    0    0]\n",
            " [   0    0    0  195    0   15    0   93    0    0    0    5    0    0\n",
            "     0    0    0    0    0]\n",
            " [   0    0    0   43    0    1    0    7   40    0    0    1    0    0\n",
            "     0    0    0    0    1]\n",
            " [   2    0    0   85    0    9    1    4    0  160    5    1    0    0\n",
            "     0    3    0    0    0]\n",
            " [   0    0    0   13    0    0    0    0    0    2   18    0    0    0\n",
            "     0    0    0    0    0]\n",
            " [   0    0    0   58    0    0    0    3    0    2    0   47    1    0\n",
            "     0    0    0    0    0]\n",
            " [   0    0    0   22    0    0    0    0    0    0    0    0   16    0\n",
            "     0    0    0    0    0]\n",
            " [   0    0    0   11    0    1    0    2    0    2    0    0    0   14\n",
            "     0    0    0    0    0]\n",
            " [   0    0    0   12    0    8    0    1    0    0    0    0    0    0\n",
            "     7    0    0    0    0]\n",
            " [   0    0    0   38    0    1    0    0    0    3    0    2    0    0\n",
            "     0  177    4    0    0]\n",
            " [   0    1    0   15    0    9    0    1    0    3    0    0    0    0\n",
            "     0    6    9    0    0]\n",
            " [   0    0    0   13    0    1    0    9    0    0    0    0    0    0\n",
            "     0    0    0    4    0]\n",
            " [   0    1    0   11    0    0    0    2    0    0    0    0    0    0\n",
            "     0    0    0    0   30]]\n"
          ]
        }
      ]
    },
    {
      "cell_type": "code",
      "source": [],
      "metadata": {
        "id": "puvz_gdZM5Bf"
      },
      "execution_count": null,
      "outputs": []
    }
  ],
  "metadata": {
    "colab": {
      "provenance": []
    },
    "kernelspec": {
      "display_name": "Python 3",
      "name": "python3"
    },
    "language_info": {
      "name": "python"
    }
  },
  "nbformat": 4,
  "nbformat_minor": 0
}